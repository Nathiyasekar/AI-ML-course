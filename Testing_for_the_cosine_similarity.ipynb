{
  "nbformat": 4,
  "nbformat_minor": 0,
  "metadata": {
    "colab": {
      "provenance": []
    },
    "kernelspec": {
      "name": "python3",
      "display_name": "Python 3"
    },
    "language_info": {
      "name": "python"
    }
  },
  "cells": [
    {
      "cell_type": "code",
      "execution_count": 2,
      "metadata": {
        "id": "Y9zJs-aS5ikC"
      },
      "outputs": [],
      "source": [
        "from sklearn.feature_extraction.text import TfidfVectorizer\n",
        "from sklearn.metrics.pairwise import cosine_similarity"
      ]
    },
    {
      "cell_type": "code",
      "source": [
        "#Sample documents\n",
        "docs=[\"machine learning and AI\",\"deep learning in AI\",\"romantic poetry and love\"]"
      ],
      "metadata": {
        "id": "_0In7YIl52c9"
      },
      "execution_count": 3,
      "outputs": []
    },
    {
      "cell_type": "code",
      "source": [
        "#Convert text to TF-IDF vectors\n",
        "vectorizer=TfidfVectorizer()\n",
        "tfidf_matrix=vectorizer.fit_transform(docs)"
      ],
      "metadata": {
        "id": "jWFAxf796l0Y"
      },
      "execution_count": 4,
      "outputs": []
    },
    {
      "cell_type": "code",
      "source": [
        "#Compute cosine similarity\n",
        "similarity=cosine_similarity(tfidf_matrix)"
      ],
      "metadata": {
        "id": "BkI9yIGW6wZ6"
      },
      "execution_count": 5,
      "outputs": []
    },
    {
      "cell_type": "code",
      "source": [
        "#Print similarity matrix\n",
        "import pandas as pd\n",
        "df=pd.DataFrame(similarity,columns=[\"Doc1\",\"Doc2\",\"Doc3\"],index=[\"Doc1\",\"Doc2\",\"Doc3\"])\n",
        "print(df)"
      ],
      "metadata": {
        "colab": {
          "base_uri": "https://localhost:8080/"
        },
        "id": "uXTGfgUL6576",
        "outputId": "b86b24b9-2edb-49a5-850c-e162e3552a1f"
      },
      "execution_count": 6,
      "outputs": [
        {
          "output_type": "stream",
          "name": "stdout",
          "text": [
            "          Doc1      Doc2     Doc3\n",
            "Doc1  1.000000  0.393677  0.18488\n",
            "Doc2  0.393677  1.000000  0.00000\n",
            "Doc3  0.184880  0.000000  1.00000\n"
          ]
        }
      ]
    },
    {
      "cell_type": "code",
      "source": [],
      "metadata": {
        "id": "Y9Kr4zdu7NHP"
      },
      "execution_count": null,
      "outputs": []
    }
  ]
}