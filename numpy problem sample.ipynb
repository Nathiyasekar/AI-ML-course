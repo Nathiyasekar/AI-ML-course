{
 "cells": [
  {
   "cell_type": "code",
   "execution_count": 0,
   "metadata": {
    "application/vnd.databricks.v1+cell": {
     "cellMetadata": {
      "byteLimit": 2048000,
      "rowLimit": 10000
     },
     "inputWidgets": {},
     "nuid": "18f58ac1-050d-45a5-bdb8-ee5b029e6e3b",
     "showTitle": false,
     "tableResultSettingsMap": {},
     "title": ""
    }
   },
   "outputs": [],
   "source": [
    "import numpy as np\n"
   ]
  },
  {
   "cell_type": "code",
   "execution_count": 0,
   "metadata": {
    "application/vnd.databricks.v1+cell": {
     "cellMetadata": {
      "byteLimit": 2048000,
      "rowLimit": 10000
     },
     "inputWidgets": {},
     "nuid": "2812dc33-93b2-4699-bfe3-592f541e4ceb",
     "showTitle": false,
     "tableResultSettingsMap": {},
     "title": ""
    }
   },
   "outputs": [],
   "source": [
    "# Sample input (you can replace this with input() logic if needed)\n",
    "input_ids = \"1 0 0 3 0 2 4 2 2 2\"\n",
    "\n",
    "# Convert input string to NumPy array of integers\n",
    "ids_array = np.array(list(map(int, input_ids.strip().split())))\n"
   ]
  },
  {
   "cell_type": "code",
   "execution_count": 0,
   "metadata": {
    "application/vnd.databricks.v1+cell": {
     "cellMetadata": {
      "byteLimit": 2048000,
      "rowLimit": 10000
     },
     "inputWidgets": {},
     "nuid": "f8ca5023-17b9-4b09-80d3-4cc5d444d083",
     "showTitle": false,
     "tableResultSettingsMap": {},
     "title": ""
    }
   },
   "outputs": [],
   "source": [
    "# Track seen IDs\n",
    "seen = set()\n",
    "output_array = np.zeros(len(ids_array), dtype=bool)\n",
    "\n"
   ]
  },
  {
   "cell_type": "code",
   "execution_count": 0,
   "metadata": {
    "application/vnd.databricks.v1+cell": {
     "cellMetadata": {
      "byteLimit": 2048000,
      "rowLimit": 10000
     },
     "inputWidgets": {},
     "nuid": "2f597b59-2e87-4357-be2c-e71c93164aee",
     "showTitle": false,
     "tableResultSettingsMap": {},
     "title": ""
    }
   },
   "outputs": [
    {
     "output_type": "stream",
     "name": "stdout",
     "output_type": "stream",
     "text": [
      "[False False  True False  True False False  True  True  True]\n"
     ]
    }
   ],
   "source": [
    "# Loop through the array and fill True/False\n",
    "for i, val in enumerate(ids_array):\n",
    "    if val in seen:\n",
    "        output_array[i] = True\n",
    "    else:\n",
    "        seen.add(val)\n",
    "        output_array[i] = False\n",
    "\n",
    "# Print the result\n",
    "print(output_array)"
   ]
  }
 ],
 "metadata": {
  "application/vnd.databricks.v1+notebook": {
   "computePreferences": null,
   "dashboards": [],
   "environmentMetadata": {
    "base_environment": "",
    "environment_version": "2"
   },
   "inputWidgetPreferences": null,
   "language": "python",
   "notebookMetadata": {
    "pythonIndentUnit": 4
   },
   "notebookName": "numpy problem sample 2025-07-18 12:15:08",
   "widgets": {}
  },
  "language_info": {
   "name": "python"
  }
 },
 "nbformat": 4,
 "nbformat_minor": 0
}