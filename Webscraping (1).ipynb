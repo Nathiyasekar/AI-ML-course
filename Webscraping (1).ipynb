{
 "cells": [
  {
   "cell_type": "code",
   "execution_count": 1,
   "id": "5b48a0e1-889e-4c2f-90d5-1ff4b638b5c8",
   "metadata": {},
   "outputs": [
    {
     "name": "stdout",
     "output_type": "stream",
     "text": [
      "Requirement already satisfied: requests in c:\\programdata\\anaconda3\\lib\\site-packages (2.32.2)\n",
      "Requirement already satisfied: charset-normalizer<4,>=2 in c:\\programdata\\anaconda3\\lib\\site-packages (from requests) (2.0.4)\n",
      "Requirement already satisfied: idna<4,>=2.5 in c:\\programdata\\anaconda3\\lib\\site-packages (from requests) (3.7)\n",
      "Requirement already satisfied: urllib3<3,>=1.21.1 in c:\\programdata\\anaconda3\\lib\\site-packages (from requests) (2.2.2)\n",
      "Requirement already satisfied: certifi>=2017.4.17 in c:\\programdata\\anaconda3\\lib\\site-packages (from requests) (2024.7.4)\n"
     ]
    },
    {
     "name": "stderr",
     "output_type": "stream",
     "text": [
      "\n",
      "[notice] A new release of pip is available: 25.0.1 -> 25.1.1\n",
      "[notice] To update, run: python.exe -m pip install --upgrade pip\n"
     ]
    }
   ],
   "source": [
    "!pip install requests"
   ]
  },
  {
   "cell_type": "code",
   "execution_count": 3,
   "id": "fb10c503-7f43-4a4a-a988-86acf32ff659",
   "metadata": {},
   "outputs": [],
   "source": [
    "import requests\n",
    "from bs4 import BeautifulSoup"
   ]
  },
  {
   "cell_type": "code",
   "execution_count": 5,
   "id": "db77998d-47ec-4a5a-8a5a-ac6cf790d1fd",
   "metadata": {},
   "outputs": [],
   "source": [
    "import pandas as pd\n",
    "import numpy as np"
   ]
  },
  {
   "cell_type": "code",
   "execution_count": 29,
   "id": "dd4ba57c-c624-4530-9641-d314e020202a",
   "metadata": {},
   "outputs": [],
   "source": [
    "url=\"http://books.toscrape.com\""
   ]
  },
  {
   "cell_type": "code",
   "execution_count": 31,
   "id": "c4d7dfbb-4ff8-423e-9e58-af9a9bf3b236",
   "metadata": {},
   "outputs": [],
   "source": [
    "response=requests.get(url)"
   ]
  },
  {
   "cell_type": "code",
   "execution_count": 33,
   "id": "b5d73f65-e6c1-4fc6-97ab-241153e460ae",
   "metadata": {},
   "outputs": [],
   "source": [
    "soup=BeautifulSoup(response.text,'html.parser')"
   ]
  },
  {
   "cell_type": "code",
   "execution_count": 35,
   "id": "e5140e45-ecd8-459f-b1d7-764865bf1891",
   "metadata": {},
   "outputs": [],
   "source": [
    "books=soup.find_all('article',class_='product_pod')"
   ]
  },
  {
   "cell_type": "code",
   "execution_count": 43,
   "id": "5ef1ee66-c5dc-4634-b431-3fb3df3deb6e",
   "metadata": {},
   "outputs": [
    {
     "name": "stdout",
     "output_type": "stream",
     "text": [
      "Title: A Light in the Attic\n",
      "Price: Â£51.77\n",
      "\n",
      "Title: Tipping the Velvet\n",
      "Price: Â£53.74\n",
      "\n",
      "Title: Soumission\n",
      "Price: Â£50.10\n",
      "\n",
      "Title: Sharp Objects\n",
      "Price: Â£47.82\n",
      "\n",
      "Title: Sapiens: A Brief History of Humankind\n",
      "Price: Â£54.23\n",
      "\n",
      "Title: The Requiem Red\n",
      "Price: Â£22.65\n",
      "\n",
      "Title: The Dirty Little Secrets of Getting Your Dream Job\n",
      "Price: Â£33.34\n",
      "\n",
      "Title: The Coming Woman: A Novel Based on the Life of the Infamous Feminist, Victoria Woodhull\n",
      "Price: Â£17.93\n",
      "\n",
      "Title: The Boys in the Boat: Nine Americans and Their Epic Quest for Gold at the 1936 Berlin Olympics\n",
      "Price: Â£22.60\n",
      "\n",
      "Title: The Black Maria\n",
      "Price: Â£52.15\n",
      "\n",
      "Title: Starving Hearts (Triangular Trade Trilogy, #1)\n",
      "Price: Â£13.99\n",
      "\n",
      "Title: Shakespeare's Sonnets\n",
      "Price: Â£20.66\n",
      "\n",
      "Title: Set Me Free\n",
      "Price: Â£17.46\n",
      "\n",
      "Title: Scott Pilgrim's Precious Little Life (Scott Pilgrim #1)\n",
      "Price: Â£52.29\n",
      "\n",
      "Title: Rip it Up and Start Again\n",
      "Price: Â£35.02\n",
      "\n",
      "Title: Our Band Could Be Your Life: Scenes from the American Indie Underground, 1981-1991\n",
      "Price: Â£57.25\n",
      "\n",
      "Title: Olio\n",
      "Price: Â£23.88\n",
      "\n",
      "Title: Mesaerion: The Best Science Fiction Stories 1800-1849\n",
      "Price: Â£37.59\n",
      "\n",
      "Title: Libertarianism for Beginners\n",
      "Price: Â£51.33\n",
      "\n",
      "Title: It's Only the Himalayas\n",
      "Price: Â£45.17\n",
      "\n"
     ]
    }
   ],
   "source": [
    "# Find all book containers\n",
    "book_data = []\n",
    "books = soup.find_all('article', class_='product_pod')\n",
    "\n",
    "for book in books:\n",
    "    title = book.h3.a['title']\n",
    "    price = book.find('p', class_='price_color').text\n",
    "    print(f\"Title: {title}\\nPrice: {price}\\n\")\n",
    "    book_data.append({\"Title\": title, \"Price\": price})"
   ]
  },
  {
   "cell_type": "code",
   "execution_count": 45,
   "id": "e601076b-873d-4b50-9aaa-f1322204ae36",
   "metadata": {},
   "outputs": [],
   "source": [
    "f=pd.DataFrame(book_data)"
   ]
  },
  {
   "cell_type": "code",
   "execution_count": 47,
   "id": "9297b3cf-ed4b-4020-8f1a-614292b9c4c2",
   "metadata": {},
   "outputs": [
    {
     "name": "stdout",
     "output_type": "stream",
     "text": [
      "                                                Title    Price\n",
      "0                                A Light in the Attic  Â£51.77\n",
      "1                                  Tipping the Velvet  Â£53.74\n",
      "2                                          Soumission  Â£50.10\n",
      "3                                       Sharp Objects  Â£47.82\n",
      "4               Sapiens: A Brief History of Humankind  Â£54.23\n",
      "5                                     The Requiem Red  Â£22.65\n",
      "6   The Dirty Little Secrets of Getting Your Dream...  Â£33.34\n",
      "7   The Coming Woman: A Novel Based on the Life of...  Â£17.93\n",
      "8   The Boys in the Boat: Nine Americans and Their...  Â£22.60\n",
      "9                                     The Black Maria  Â£52.15\n",
      "10     Starving Hearts (Triangular Trade Trilogy, #1)  Â£13.99\n",
      "11                              Shakespeare's Sonnets  Â£20.66\n",
      "12                                        Set Me Free  Â£17.46\n",
      "13  Scott Pilgrim's Precious Little Life (Scott Pi...  Â£52.29\n",
      "14                          Rip it Up and Start Again  Â£35.02\n",
      "15  Our Band Could Be Your Life: Scenes from the A...  Â£57.25\n",
      "16                                               Olio  Â£23.88\n",
      "17  Mesaerion: The Best Science Fiction Stories 18...  Â£37.59\n",
      "18                       Libertarianism for Beginners  Â£51.33\n",
      "19                            It's Only the Himalayas  Â£45.17\n"
     ]
    }
   ],
   "source": [
    "print(f)"
   ]
  },
  {
   "cell_type": "code",
   "execution_count": null,
   "id": "9827b878-7164-46e9-a320-18a0bbff7aab",
   "metadata": {},
   "outputs": [],
   "source": []
  }
 ],
 "metadata": {
  "kernelspec": {
   "display_name": "Python 3 (ipykernel)",
   "language": "python",
   "name": "python3"
  },
  "language_info": {
   "codemirror_mode": {
    "name": "ipython",
    "version": 3
   },
   "file_extension": ".py",
   "mimetype": "text/x-python",
   "name": "python",
   "nbconvert_exporter": "python",
   "pygments_lexer": "ipython3",
   "version": "3.12.4"
  }
 },
 "nbformat": 4,
 "nbformat_minor": 5
}
