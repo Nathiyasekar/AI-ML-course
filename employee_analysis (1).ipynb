{
 "cells": [
  {
   "cell_type": "code",
   "execution_count": 3,
   "id": "f9fee70f-9975-4f2f-b2d5-437a501d89f8",
   "metadata": {},
   "outputs": [
    {
     "name": "stdout",
     "output_type": "stream",
     "text": [
      "Requirement already satisfied: matplotlib in c:\\programdata\\anaconda3\\lib\\site-packages (3.8.4)\n",
      "Requirement already satisfied: contourpy>=1.0.1 in c:\\programdata\\anaconda3\\lib\\site-packages (from matplotlib) (1.2.0)\n",
      "Requirement already satisfied: cycler>=0.10 in c:\\programdata\\anaconda3\\lib\\site-packages (from matplotlib) (0.11.0)\n",
      "Requirement already satisfied: fonttools>=4.22.0 in c:\\programdata\\anaconda3\\lib\\site-packages (from matplotlib) (4.51.0)\n",
      "Requirement already satisfied: kiwisolver>=1.3.1 in c:\\programdata\\anaconda3\\lib\\site-packages (from matplotlib) (1.4.4)\n",
      "Requirement already satisfied: numpy>=1.21 in c:\\programdata\\anaconda3\\lib\\site-packages (from matplotlib) (1.26.4)\n",
      "Requirement already satisfied: packaging>=20.0 in c:\\programdata\\anaconda3\\lib\\site-packages (from matplotlib) (23.2)\n",
      "Requirement already satisfied: pillow>=8 in c:\\programdata\\anaconda3\\lib\\site-packages (from matplotlib) (10.3.0)\n",
      "Requirement already satisfied: pyparsing>=2.3.1 in c:\\programdata\\anaconda3\\lib\\site-packages (from matplotlib) (3.0.9)\n",
      "Requirement already satisfied: python-dateutil>=2.7 in c:\\users\\insfg\\appdata\\roaming\\python\\python312\\site-packages (from matplotlib) (2.9.0.post0)\n",
      "Requirement already satisfied: six>=1.5 in c:\\users\\insfg\\appdata\\roaming\\python\\python312\\site-packages (from python-dateutil>=2.7->matplotlib) (1.17.0)\n"
     ]
    },
    {
     "name": "stderr",
     "output_type": "stream",
     "text": [
      "\n",
      "[notice] A new release of pip is available: 25.0.1 -> 25.1.1\n",
      "[notice] To update, run: python.exe -m pip install --upgrade pip\n"
     ]
    }
   ],
   "source": [
    "!pip install matplotlib"
   ]
  },
  {
   "cell_type": "code",
   "execution_count": 5,
   "id": "621621b1-ad47-4fc4-9ba4-abc92763a969",
   "metadata": {},
   "outputs": [],
   "source": [
    "import matplotlib.pyplot as plt"
   ]
  },
  {
   "cell_type": "code",
   "execution_count": 7,
   "id": "2b522a1f-b2b9-4675-9252-4597e2ff1a63",
   "metadata": {},
   "outputs": [],
   "source": [
    "import numpy as np"
   ]
  },
  {
   "cell_type": "code",
   "execution_count": 9,
   "id": "dbaed13f-d27a-44a5-b268-b465482f954a",
   "metadata": {},
   "outputs": [],
   "source": [
    "import pandas as pd"
   ]
  },
  {
   "cell_type": "code",
   "execution_count": 11,
   "id": "b8f67fd5-c704-44ba-94dd-847e10419bb1",
   "metadata": {},
   "outputs": [],
   "source": [
    "np.random.seed(42)"
   ]
  },
  {
   "cell_type": "code",
   "execution_count": 13,
   "id": "eee94ab1-f37a-4249-b408-28e8ed6c092f",
   "metadata": {},
   "outputs": [],
   "source": [
    "employee_ids=[f'EMP_{i:03d}' for i in range(1,31)]\n",
    "dates=pd.date_range(\"2025-07-01\",periods=30,freq=\"D\")"
   ]
  },
  {
   "cell_type": "code",
   "execution_count": 15,
   "id": "ec52cb10-0b74-4ca3-9b73-ca0afc515d41",
   "metadata": {},
   "outputs": [
    {
     "data": {
      "text/plain": [
       "['EMP_001',\n",
       " 'EMP_002',\n",
       " 'EMP_003',\n",
       " 'EMP_004',\n",
       " 'EMP_005',\n",
       " 'EMP_006',\n",
       " 'EMP_007',\n",
       " 'EMP_008',\n",
       " 'EMP_009',\n",
       " 'EMP_010',\n",
       " 'EMP_011',\n",
       " 'EMP_012',\n",
       " 'EMP_013',\n",
       " 'EMP_014',\n",
       " 'EMP_015',\n",
       " 'EMP_016',\n",
       " 'EMP_017',\n",
       " 'EMP_018',\n",
       " 'EMP_019',\n",
       " 'EMP_020',\n",
       " 'EMP_021',\n",
       " 'EMP_022',\n",
       " 'EMP_023',\n",
       " 'EMP_024',\n",
       " 'EMP_025',\n",
       " 'EMP_026',\n",
       " 'EMP_027',\n",
       " 'EMP_028',\n",
       " 'EMP_029',\n",
       " 'EMP_030']"
      ]
     },
     "execution_count": 15,
     "metadata": {},
     "output_type": "execute_result"
    }
   ],
   "source": [
    "employee_ids"
   ]
  },
  {
   "cell_type": "code",
   "execution_count": 17,
   "id": "013b632d-2511-4bf8-90e7-fa4ac5d11fa7",
   "metadata": {},
   "outputs": [],
   "source": [
    "data={\n",
    "    \"Date\":np.tile(dates,len(employee_ids)),\n",
    "    \"Employee_ID\":np.repeat(employee_ids,len(dates)),\n",
    "    \"Working_Hours\":np.random.uniform(4,10,size=len(dates)*len(employee_ids)).round(2)\n",
    "}"
   ]
  },
  {
   "cell_type": "code",
   "execution_count": 19,
   "id": "8764bd62-e630-4340-a368-b5a69f233c9a",
   "metadata": {},
   "outputs": [],
   "source": [
    "df=pd.DataFrame(data)"
   ]
  },
  {
   "cell_type": "code",
   "execution_count": 21,
   "id": "4ebfe80c-7980-4267-b786-bbba41af5fef",
   "metadata": {},
   "outputs": [
    {
     "data": {
      "text/plain": [
       "Date             2025-07-04 00:00:00\n",
       "Employee_ID                  EMP_001\n",
       "Working_Hours                   7.59\n",
       "Name: 3, dtype: object"
      ]
     },
     "execution_count": 21,
     "metadata": {},
     "output_type": "execute_result"
    }
   ],
   "source": [
    "row=df.iloc[3]\n",
    "row"
   ]
  },
  {
   "cell_type": "code",
   "execution_count": 23,
   "id": "ac6efbcb-5ad0-4bfa-a5df-22e8e39f677f",
   "metadata": {},
   "outputs": [],
   "source": [
    "df.to_csv(\"employee_working_hours.csv\",index=False)"
   ]
  },
  {
   "cell_type": "code",
   "execution_count": 25,
   "id": "0ac89654-2c33-41ff-9faa-e2edafd37ebd",
   "metadata": {},
   "outputs": [],
   "source": [
    "#read from csv\n",
    "df_csv = pd.read_csv(\"employee_working_hours.csv\")"
   ]
  },
  {
   "cell_type": "code",
   "execution_count": 27,
   "id": "4de4dfb1-332b-45a0-a5b3-47e1d4d72d0f",
   "metadata": {},
   "outputs": [
    {
     "name": "stdout",
     "output_type": "stream",
     "text": [
      "         Date Employee_ID  Working_Hours\n",
      "0  2025-07-01     EMP_001           6.25\n",
      "1  2025-07-02     EMP_001           9.70\n",
      "2  2025-07-03     EMP_001           8.39\n",
      "3  2025-07-04     EMP_001           7.59\n",
      "4  2025-07-05     EMP_001           4.94\n",
      "       Working_Hours\n",
      "count     900.000000\n",
      "mean        6.954233\n",
      "std         1.762088\n",
      "min         4.030000\n",
      "25%         5.387500\n",
      "50%         7.010000\n",
      "75%         8.490000\n",
      "max        10.000000\n",
      "30\n"
     ]
    }
   ],
   "source": [
    "print(df_csv.head())\n",
    "print(df_csv.describe())\n",
    "print(df_csv[\"Employee_ID\"].nunique())"
   ]
  },
  {
   "cell_type": "code",
   "execution_count": 29,
   "id": "b961a6f8-fde5-41a1-87ec-88c5fb955cd0",
   "metadata": {},
   "outputs": [],
   "source": [
    "#total hours per employee\n",
    "total_hours=df_csv.groupby(\"Employee_ID\")[\"Working_Hours\"].sum().sort_values(ascending=False)"
   ]
  },
  {
   "cell_type": "code",
   "execution_count": 31,
   "id": "2b71aafe-2179-4c19-a377-2aaafcac0c30",
   "metadata": {},
   "outputs": [
    {
     "data": {
      "text/plain": [
       "Employee_ID\n",
       "EMP_009    228.84\n",
       "EMP_018    226.10\n",
       "EMP_017    225.95\n",
       "EMP_014    224.92\n",
       "EMP_027    220.85\n",
       "EMP_025    214.07\n",
       "EMP_026    212.33\n",
       "EMP_016    211.56\n",
       "EMP_007    210.91\n",
       "EMP_010    210.88\n",
       "EMP_008    210.81\n",
       "EMP_011    210.77\n",
       "EMP_028    209.51\n",
       "EMP_019    209.42\n",
       "EMP_002    209.37\n",
       "EMP_004    208.46\n",
       "EMP_013    207.72\n",
       "EMP_003    206.79\n",
       "EMP_015    206.67\n",
       "EMP_024    204.46\n",
       "EMP_006    204.29\n",
       "EMP_023    203.64\n",
       "EMP_005    202.07\n",
       "EMP_022    200.73\n",
       "EMP_020    199.91\n",
       "EMP_029    199.89\n",
       "EMP_001    198.96\n",
       "EMP_012    196.52\n",
       "EMP_021    192.18\n",
       "EMP_030    190.23\n",
       "Name: Working_Hours, dtype: float64"
      ]
     },
     "execution_count": 31,
     "metadata": {},
     "output_type": "execute_result"
    }
   ],
   "source": [
    "total_hours"
   ]
  },
  {
   "cell_type": "code",
   "execution_count": 33,
   "id": "b71fc96e-7c13-40d3-b9bf-cfb5472b89fe",
   "metadata": {},
   "outputs": [],
   "source": [
    "avg_daily = df_csv.groupby(\"Employee_ID\")[\"Working_Hours\"].mean()"
   ]
  },
  {
   "cell_type": "code",
   "execution_count": 35,
   "id": "2208f7f8-169d-4d84-aa1c-42e3fc8782d8",
   "metadata": {},
   "outputs": [
    {
     "name": "stdout",
     "output_type": "stream",
     "text": [
      "         Date Employee_ID  Working_Hours  Low_Hour_Flag  High_Hour_Flag\n",
      "1  2025-07-02     EMP_001           9.70          False            True\n",
      "4  2025-07-05     EMP_001           4.94           True           False\n",
      "5  2025-07-06     EMP_001           4.94           True           False\n",
      "6  2025-07-07     EMP_001           4.35           True           False\n",
      "7  2025-07-08     EMP_001           9.20          False            True\n"
     ]
    }
   ],
   "source": [
    "threshold_low=5\n",
    "threshold_high=9\n",
    "df_csv[\"Low_Hour_Flag\"]=df_csv[\"Working_Hours\"] < threshold_low\n",
    "df_csv[\"High_Hour_Flag\"]=df_csv[\"Working_Hours\"] > threshold_high\n",
    "\n",
    "#view flagged rows\n",
    "print(df_csv[df_csv[\"Low_Hour_Flag\"] | df_csv[\"High_Hour_Flag\"]].head())"
   ]
  },
  {
   "cell_type": "code",
   "execution_count": 37,
   "id": "71e6d11e-dfca-4aff-a0e9-1c58314a6fe5",
   "metadata": {},
   "outputs": [],
   "source": [
    "import seaborn as sns"
   ]
  },
  {
   "cell_type": "code",
   "execution_count": 38,
   "id": "3da62b0d-ee1f-4752-b009-56cb86f32154",
   "metadata": {},
   "outputs": [
    {
     "data": {
      "image/png": "[encoded data removed]",
      "text/plain": [
       "<Figure size 1000x500 with 1 Axes>"
      ]
     },
     "metadata": {},
     "output_type": "display_data"
    }
   ],
   "source": [
    "top10 = total_hours.head(10)\n",
    "plt.figure(figsize=(10,5))\n",
    "sns.barplot(x=top10.index, y=top10.values)\n",
    "plt.xticks(rotation=45)\n",
    "plt.title(\"Top 10 Employees by Total working Hours\")\n",
    "plt.ylabel(\"Hours\")\n",
    "plt.tight_layout()\n",
    "plt.show()"
   ]
  },
  {
   "cell_type": "code",
   "execution_count": 41,
   "id": "9a30b13f-fb4d-46be-9b12-eb8bda0b2beb",
   "metadata": {},
   "outputs": [],
   "source": [
    "Grades = df.loc[(df[\"Employee_ID\"] == \"EMP_023\")]"
   ]
  },
  {
   "cell_type": "code",
   "execution_count": 43,
   "id": "d57eec0d-de14-4b37-9b85-b7645b925be8",
   "metadata": {},
   "outputs": [
    {
     "name": "stdout",
     "output_type": "stream",
     "text": [
      "          Date Employee_ID  Working_Hours\n",
      "660 2025-07-01     EMP_023           6.14\n",
      "661 2025-07-02     EMP_023           9.92\n",
      "662 2025-07-03     EMP_023           7.63\n",
      "663 2025-07-04     EMP_023           5.42\n",
      "664 2025-07-05     EMP_023           4.61\n",
      "665 2025-07-06     EMP_023           4.92\n",
      "666 2025-07-07     EMP_023           5.48\n",
      "667 2025-07-08     EMP_023           4.96\n",
      "668 2025-07-09     EMP_023           5.12\n",
      "669 2025-07-10     EMP_023           5.71\n",
      "670 2025-07-11     EMP_023           5.04\n",
      "671 2025-07-12     EMP_023           9.38\n",
      "672 2025-07-13     EMP_023           4.48\n",
      "673 2025-07-14     EMP_023           7.15\n",
      "674 2025-07-15     EMP_023           6.46\n",
      "675 2025-07-16     EMP_023           9.89\n",
      "676 2025-07-17     EMP_023           4.67\n",
      "677 2025-07-18     EMP_023           6.39\n",
      "678 2025-07-19     EMP_023           9.82\n",
      "679 2025-07-20     EMP_023           9.19\n",
      "680 2025-07-21     EMP_023           8.90\n",
      "681 2025-07-22     EMP_023           5.55\n",
      "682 2025-07-23     EMP_023           5.03\n",
      "683 2025-07-24     EMP_023           8.01\n",
      "684 2025-07-25     EMP_023           9.58\n",
      "685 2025-07-26     EMP_023           7.34\n",
      "686 2025-07-27     EMP_023           7.43\n",
      "687 2025-07-28     EMP_023           5.68\n",
      "688 2025-07-29     EMP_023           8.62\n",
      "689 2025-07-30     EMP_023           5.12\n"
     ]
    }
   ],
   "source": [
    "print(Grades)"
   ]
  },
  {
   "cell_type": "code",
   "execution_count": null,
   "id": "8b92ef88-5bc9-4913-8446-7951bd85bbd5",
   "metadata": {},
   "outputs": [],
   "source": []
  }
 ],
 "metadata": {
  "kernelspec": {
   "display_name": "Python 3 (ipykernel)",
   "language": "python",
   "name": "python3"
  },
  "language_info": {
   "codemirror_mode": {
    "name": "ipython",
    "version": 3
   },
   "file_extension": ".py",
   "mimetype": "text/x-python",
   "name": "python",
   "nbconvert_exporter": "python",
   "pygments_lexer": "ipython3",
   "version": "3.12.4"
  }
 },
 "nbformat": 4,
 "nbformat_minor": 5
}
